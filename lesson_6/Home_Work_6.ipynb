{
 "cells": [
  {
   "cell_type": "markdown",
   "id": "adjusted-enough",
   "metadata": {},
   "source": [
    "Для реализованной модели градиентного бустинга построить графики зависимости ошибки от количества деревьев в ансамбле и от максимальной глубины деревьев. Сделать выводы о зависимости ошибки от этих параметров."
   ]
  },
  {
   "cell_type": "code",
   "execution_count": 28,
   "id": "growing-flesh",
   "metadata": {},
   "outputs": [],
   "source": [
    "from sklearn.tree import DecisionTreeRegressor\n",
    "\n",
    "from sklearn import model_selection\n",
    "import numpy as np"
   ]
  },
  {
   "cell_type": "code",
   "execution_count": 29,
   "id": "viral-congo",
   "metadata": {},
   "outputs": [],
   "source": [
    "from sklearn.datasets import load_diabetes"
   ]
  },
  {
   "cell_type": "code",
   "execution_count": 30,
   "id": "concerned-preliminary",
   "metadata": {},
   "outputs": [],
   "source": [
    "X, y = load_diabetes(return_X_y=True)"
   ]
  },
  {
   "cell_type": "code",
   "execution_count": 31,
   "id": "sorted-annex",
   "metadata": {},
   "outputs": [],
   "source": [
    "X_train, X_test, y_train, y_test = model_selection.train_test_split(X, y, test_size=0.25)"
   ]
  },
  {
   "cell_type": "code",
   "execution_count": 32,
   "id": "linear-senegal",
   "metadata": {},
   "outputs": [],
   "source": [
    "def gb_predict(X, trees_list, coef_list, eta):\n",
    "    # Реализуемый алгоритм градиентного бустинга будет инициализироваться нулевыми значениями,\n",
    "    # поэтому все деревья из списка trees_list уже являются дополнительными и при предсказании прибавляются с шагом eta\n",
    "    return np.array([sum([eta* coef * alg.predict([x])[0] for alg, coef in zip(trees_list, coef_list)]) for x in X])"
   ]
  },
  {
   "cell_type": "markdown",
   "id": "further-liability",
   "metadata": {},
   "source": [
    "В качестве функционала ошибки будем использовать среднеквадратичную ошибку. Реализуем соответствующую функцию."
   ]
  },
  {
   "cell_type": "code",
   "execution_count": 33,
   "id": "stable-timothy",
   "metadata": {},
   "outputs": [],
   "source": [
    "def mean_squared_error(y_real, prediction):\n",
    "    return (sum((y_real - prediction)**2)) / len(y_real)"
   ]
  },
  {
   "cell_type": "markdown",
   "id": "individual-james",
   "metadata": {},
   "source": [
    "Используем $L_{2}$ loss $L(y, z) = (y-z)^{2},$ ее производная по $z$ примет вид $L'(y, z) = 2(z-y)$. Реализуем ее также в виде функции (коэффициент 2 можно отбросить)."
   ]
  },
  {
   "cell_type": "code",
   "execution_count": 34,
   "id": "bridal-brown",
   "metadata": {},
   "outputs": [],
   "source": [
    "def bias(y, z):\n",
    "    return (y - z)"
   ]
  },
  {
   "cell_type": "markdown",
   "id": "funky-compatibility",
   "metadata": {},
   "source": [
    "Реализуем функцию обучения градиентного бустинга."
   ]
  },
  {
   "cell_type": "code",
   "execution_count": 35,
   "id": "organizational-victoria",
   "metadata": {},
   "outputs": [],
   "source": [
    "def gb_fit(n_trees, max_depth, X_train, X_test, y_train, y_test, coefs, eta):\n",
    "    \n",
    "    # Деревья будем записывать в список\n",
    "    trees = []\n",
    "    \n",
    "    # Будем записывать ошибки на обучающей и тестовой выборке на каждой итерации в список\n",
    "    train_errors = []\n",
    "    test_errors = []\n",
    "    \n",
    "    for i in range(n_trees):\n",
    "        tree = DecisionTreeRegressor(max_depth=max_depth, random_state=42)\n",
    "\n",
    "        # инициализируем бустинг начальным алгоритмом, возвращающим ноль, \n",
    "        # поэтому первый алгоритм просто обучаем на выборке и добавляем в список\n",
    "        if len(trees) == 0:\n",
    "            # обучаем первое дерево на обучающей выборке\n",
    "            tree.fit(X_train, y_train)\n",
    "            \n",
    "            train_errors.append(mean_squared_error(y_train, gb_predict(X_train, trees, coefs, eta)))\n",
    "            test_errors.append(mean_squared_error(y_test, gb_predict(X_test, trees, coefs, eta)))\n",
    "        else:\n",
    "            # Получим ответы на текущей композиции\n",
    "            target = gb_predict(X_train, trees, coefs, eta)\n",
    "            \n",
    "            # алгоритмы начиная со второго обучаем на сдвиг\n",
    "            tree.fit(X_train, bias(y_train, target))\n",
    "            \n",
    "            train_errors.append(mean_squared_error(y_train, gb_predict(X_train, trees, coefs, eta)))\n",
    "            test_errors.append(mean_squared_error(y_test, gb_predict(X_test, trees, coefs, eta)))\n",
    "\n",
    "        trees.append(tree)\n",
    "        \n",
    "    return trees, train_errors, test_errors\n"
   ]
  },
  {
   "cell_type": "code",
   "execution_count": 36,
   "id": "contained-manor",
   "metadata": {},
   "outputs": [],
   "source": [
    "def evaluate_alg(X_train, X_test, y_train, y_test, trees, coefs, eta, depth, trs):\n",
    "    train_prediction = gb_predict(X_train, trees, coefs, eta)\n",
    "    mse_train = mean_squared_error(y_train, train_prediction)\n",
    "    \n",
    "    print(f'Ошибка алгоритма из {trs} деревьев глубиной {depth} \\\n",
    "    с шагом {eta} на тренировочной выборке: {mse_train}')\n",
    "\n",
    "    test_prediction = gb_predict(X_test, trees, coefs, eta)\n",
    "    mse_test = mean_squared_error(y_test, test_prediction)\n",
    "\n",
    "    print(f'Ошибка алгоритма из {trs} деревьев глубиной {depth} \\\n",
    "    с шагом {eta} на тестовой выборке: {mse_test}')\n",
    "    \n",
    "    return mse_train, mse_test"
   ]
  },
  {
   "cell_type": "code",
   "execution_count": 37,
   "id": "rapid-gravity",
   "metadata": {},
   "outputs": [
    {
     "name": "stdout",
     "output_type": "stream",
     "text": [
      "Ошибка алгоритма из 10 деревьев глубиной 3     с шагом 1 на тренировочной выборке: 1151.3961165021497\n",
      "Ошибка алгоритма из 10 деревьев глубиной 3     с шагом 1 на тестовой выборке: 4815.351568691609\n",
      "10 3 1151.3961165021497 4815.351568691609\n",
      "Ошибка алгоритма из 10 деревьев глубиной 4     с шагом 1 на тренировочной выборке: 628.9915274461605\n",
      "Ошибка алгоритма из 10 деревьев глубиной 4     с шагом 1 на тестовой выборке: 6240.5379926584765\n",
      "10 4 628.9915274461605 6240.5379926584765\n",
      "Ошибка алгоритма из 10 деревьев глубиной 5     с шагом 1 на тренировочной выборке: 116.84653983401923\n",
      "Ошибка алгоритма из 10 деревьев глубиной 5     с шагом 1 на тестовой выборке: 6637.473783558616\n",
      "10 5 116.84653983401923 6637.473783558616\n",
      "Ошибка алгоритма из 15 деревьев глубиной 3     с шагом 1 на тренировочной выборке: 740.4393449743125\n",
      "Ошибка алгоритма из 15 деревьев глубиной 3     с шагом 1 на тестовой выборке: 5593.922532947803\n",
      "15 3 740.4393449743125 5593.922532947803\n",
      "Ошибка алгоритма из 15 деревьев глубиной 4     с шагом 1 на тренировочной выборке: 237.0582620694747\n",
      "Ошибка алгоритма из 15 деревьев глубиной 4     с шагом 1 на тестовой выборке: 7011.667301364789\n",
      "15 4 237.0582620694747 7011.667301364789\n",
      "Ошибка алгоритма из 15 деревьев глубиной 5     с шагом 1 на тренировочной выборке: 19.612359441662804\n",
      "Ошибка алгоритма из 15 деревьев глубиной 5     с шагом 1 на тестовой выборке: 7010.664360345182\n",
      "15 5 19.612359441662804 7010.664360345182\n",
      "Ошибка алгоритма из 25 деревьев глубиной 3     с шагом 1 на тренировочной выборке: 381.30313122307456\n",
      "Ошибка алгоритма из 25 деревьев глубиной 3     с шагом 1 на тестовой выборке: 6767.687219427726\n",
      "25 3 381.30313122307456 6767.687219427726\n",
      "Ошибка алгоритма из 25 деревьев глубиной 4     с шагом 1 на тренировочной выборке: 61.81493933484978\n",
      "Ошибка алгоритма из 25 деревьев глубиной 4     с шагом 1 на тестовой выборке: 7115.678159238092\n",
      "25 4 61.81493933484978 7115.678159238092\n",
      "Ошибка алгоритма из 25 деревьев глубиной 5     с шагом 1 на тренировочной выборке: 1.4598576003104813\n",
      "Ошибка алгоритма из 25 деревьев глубиной 5     с шагом 1 на тестовой выборке: 7056.379881541467\n",
      "25 5 1.4598576003104813 7056.379881541467\n",
      "Ошибка алгоритма из 50 деревьев глубиной 3     с шагом 1 на тренировочной выборке: 64.9151385702185\n",
      "Ошибка алгоритма из 50 деревьев глубиной 3     с шагом 1 на тестовой выборке: 7444.2097443497405\n",
      "50 3 64.9151385702185 7444.2097443497405\n",
      "Ошибка алгоритма из 50 деревьев глубиной 4     с шагом 1 на тренировочной выборке: 0.977231116211707\n",
      "Ошибка алгоритма из 50 деревьев глубиной 4     с шагом 1 на тестовой выборке: 7353.419259681866\n",
      "50 4 0.977231116211707 7353.419259681866\n",
      "Ошибка алгоритма из 50 деревьев глубиной 5     с шагом 1 на тренировочной выборке: 0.000751524023261705\n",
      "Ошибка алгоритма из 50 деревьев глубиной 5     с шагом 1 на тестовой выборке: 7071.189723141963\n",
      "50 5 0.000751524023261705 7071.189723141963\n"
     ]
    }
   ],
   "source": [
    "trees_f = []\n",
    "depth_f = []\n",
    "mse_ftrain = []\n",
    "mse_ftest = []\n",
    "\n",
    "n_trees = [10,15,25,50]\n",
    "\n",
    "# Максимальная глубина деревьев\n",
    "max_depth = [3,4,5]\n",
    "\n",
    "# Шаг\n",
    "eta = 1\n",
    "\n",
    "for trs in n_trees:\n",
    "    # для простоты примем коэффициенты равными 1\n",
    "    coefs = [1] * trs\n",
    "    for depth in max_depth:\n",
    "        \n",
    "        trees, train_errors, test_errors = gb_fit(trs, depth, X_train, X_test, y_train, y_test, coefs, eta)\n",
    "        \n",
    "        mse_train, mse_test = evaluate_alg(X_train, X_test, y_train, y_test, trees, coefs, eta, depth, trs)\n",
    "        \n",
    "        print(trs, depth, mse_train, mse_test)\n",
    "        trees_f.append(trs)\n",
    "        depth_f.append(depth)\n",
    "        mse_ftrain.append(mse_train)\n",
    "        mse_ftest.append(mse_test)\n"
   ]
  },
  {
   "cell_type": "markdown",
   "id": "weird-activation",
   "metadata": {},
   "source": [
    "Построим графики зависимости ошибки на обучающей и тестовой выборках от числа итераций."
   ]
  },
  {
   "cell_type": "code",
   "execution_count": 38,
   "id": "genetic-leadership",
   "metadata": {},
   "outputs": [],
   "source": [
    "import matplotlib.pyplot as plt"
   ]
  },
  {
   "cell_type": "code",
   "execution_count": 39,
   "id": "naval-logan",
   "metadata": {},
   "outputs": [
    {
     "data": {
      "text/plain": [
       "<matplotlib.legend.Legend at 0x1e3e1233108>"
      ]
     },
     "execution_count": 39,
     "metadata": {},
     "output_type": "execute_result"
    },
    {
     "data": {
      "image/png": "[encoded data removed]",
      "text/plain": [
       "<Figure size 720x360 with 2 Axes>"
      ]
     },
     "metadata": {
      "needs_background": "light"
     },
     "output_type": "display_data"
    }
   ],
   "source": [
    "fig = plt.figure(figsize=(10, 5))\n",
    "plt.subplot(121)\n",
    "plt.title('MSE TEST в зависимости от Depth')\n",
    "plt.xlabel(r'Depth')\n",
    "plt.ylabel(r'MSE')\n",
    "plt.plot(depth_f[1:3], mse_ftest[1:3], depth_f[4:6], mse_ftest[4:6], depth_f[7:9], mse_ftest[7:9], depth_f[10:12], mse_ftest[10:12])\n",
    "plt.legend((\"10 trees\", \"15 trees\", \"25 trees\", \"50 trees\"))\n",
    "\n",
    "plt.subplot(122)\n",
    "plt.title('MSE TRAIN в зависимости от Depth')\n",
    "plt.xlabel(r'Depth')\n",
    "plt.ylabel(r'MSE')\n",
    "plt.plot(depth_f[1:3], mse_ftrain[1:3], depth_f[4:6], mse_ftrain[4:6], depth_f[7:9], mse_ftrain[7:9], depth_f[10:12], mse_ftrain[10:12])\n",
    "plt.legend((\"10 trees\", \"15 trees\", \"25 trees\", \"50 trees\"))"
   ]
  },
  {
   "cell_type": "markdown",
   "id": "proper-peeing",
   "metadata": {},
   "source": [
    "При параметре деревьев ниже 15, модель ведет себя разнонаправлено: увеличение глубины дает большую ошибку на тестовой выборке. При параметре деревьев выше 15-25 идет существнное падение MSE TRAIN and MSE Test при увеличении глубины. При количестве деревьев более 25, при увеличении глубины, ошибка тестовой выборки существенно снижается, train снижается не существенно."
   ]
  },
  {
   "cell_type": "code",
   "execution_count": null,
   "id": "spread-modem",
   "metadata": {},
   "outputs": [],
   "source": []
  }
 ],
 "metadata": {
  "kernelspec": {
   "display_name": "Python 3",
   "language": "python",
   "name": "python3"
  },
  "language_info": {
   "codemirror_mode": {
    "name": "ipython",
    "version": 3
   },
   "file_extension": ".py",
   "mimetype": "text/x-python",
   "name": "python",
   "nbconvert_exporter": "python",
   "pygments_lexer": "ipython3",
   "version": "3.7.9"
  }
 },
 "nbformat": 4,
 "nbformat_minor": 5
}
